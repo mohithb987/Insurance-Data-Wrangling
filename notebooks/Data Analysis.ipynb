{
 "cells": [
  {
   "cell_type": "code",
   "execution_count": 2,
   "metadata": {},
   "outputs": [],
   "source": [
    "# Declare constant paths\n",
    "INPUT_DIR = \"/home/jovyan/output/final_df.parquet\""
   ]
  },
  {
   "cell_type": "code",
   "execution_count": 3,
   "metadata": {},
   "outputs": [
    {
     "data": {
      "text/html": [
       "\n",
       "            <div>\n",
       "                <p><b>SparkSession - in-memory</b></p>\n",
       "                \n",
       "        <div>\n",
       "            <p><b>SparkContext</b></p>\n",
       "\n",
       "            <p><a href=\"http://7a77421ed90e:4041\">Spark UI</a></p>\n",
       "\n",
       "            <dl>\n",
       "              <dt>Version</dt>\n",
       "                <dd><code>v3.5.0</code></dd>\n",
       "              <dt>Master</dt>\n",
       "                <dd><code>local[*]</code></dd>\n",
       "              <dt>AppName</dt>\n",
       "                <dd><code>SF-Data-Analysis-Work-Sample</code></dd>\n",
       "            </dl>\n",
       "        </div>\n",
       "        \n",
       "            </div>\n",
       "        "
      ],
      "text/plain": [
       "<pyspark.sql.session.SparkSession at 0x7fffd86d1010>"
      ]
     },
     "execution_count": 3,
     "metadata": {},
     "output_type": "execute_result"
    }
   ],
   "source": [
    "from pyspark.sql import SparkSession\n",
    "from pyspark.sql import functions as F\n",
    "\n",
    "spark = SparkSession.builder \\\n",
    "                    .appName(\"SF-Data-Analysis-Work-Sample\") \\\n",
    "                    .master(\"local[*]\") \\\n",
    "                    .config(\"spark.driver.memory\", \"4g\") \\\n",
    "                    .config(\"spark.executor.memory\", \"8g\") \\\n",
    "                    .getOrCreate()\n",
    "spark"
   ]
  },
  {
   "cell_type": "code",
   "execution_count": 4,
   "metadata": {},
   "outputs": [
    {
     "name": "stdout",
     "output_type": "stream",
     "text": [
      "root\n",
      " |-- car_id: integer (nullable = true)\n",
      " |-- cust_id: integer (nullable = true)\n",
      " |-- hh_id: integer (nullable = true)\n",
      " |-- active_hh: integer (nullable = true)\n",
      " |-- hh_start_date: string (nullable = true)\n",
      " |-- phone_number: string (nullable = true)\n",
      " |-- zip: integer (nullable = true)\n",
      " |-- country: string (nullable = true)\n",
      " |-- referral_source: string (nullable = true)\n",
      " |-- date_of_birth: string (nullable = true)\n",
      " |-- marital_status: string (nullable = true)\n",
      " |-- employment_type: string (nullable = true)\n",
      " |-- income: string (nullable = true)\n",
      " |-- status: string (nullable = true)\n",
      " |-- model_year: integer (nullable = true)\n",
      " |-- make: string (nullable = true)\n",
      " |-- body_style: string (nullable = true)\n",
      " |-- vehicle_value: double (nullable = true)\n",
      " |-- annual_miles_driven: integer (nullable = true)\n",
      " |-- business_use: integer (nullable = true)\n",
      " |-- antique_vehicle: integer (nullable = true)\n",
      " |-- lien: integer (nullable = true)\n",
      " |-- lease: integer (nullable = true)\n",
      " |-- driver_safety_discount: integer (nullable = true)\n",
      " |-- vehicle_safety_discount: integer (nullable = true)\n",
      " |-- claim_payout: integer (nullable = true)\n",
      " |-- six_month_premium_amount: double (nullable = true)\n",
      " |-- state: string (nullable = true)\n",
      "\n",
      "+------+---------+---------+---------+-------------+--------------+-----+-------+---------------+-------------+--------------+---------------------------------+------+---------------------+----------+-------------+----------+-------------+-------------------+------------+---------------+----+-----+----------------------+-----------------------+------------+------------------------+-----+\n",
      "|car_id|cust_id  |hh_id    |active_hh|hh_start_date|phone_number  |zip  |country|referral_source|date_of_birth|marital_status|employment_type                  |income|status               |model_year|make         |body_style|vehicle_value|annual_miles_driven|business_use|antique_vehicle|lien|lease|driver_safety_discount|vehicle_safety_discount|claim_payout|six_month_premium_amount|state|\n",
      "+------+---------+---------+---------+-------------+--------------+-----+-------+---------------+-------------+--------------+---------------------------------+------+---------------------+----------+-------------+----------+-------------+-------------------+------------+---------------+----+-----+----------------------+-----------------------+------------+------------------------+-----+\n",
      "|1199  |707455302|323693410|1        |3/14/89      |(974) 521-6472|46828|USA    |Friend         |11/22/01     |M             |Sales and Related                |41457 |In Force             |2016      |Manufacturer1|4 door    |27499.8      |26442              |0           |0              |0   |1    |1                     |0                      |0           |480.7182396             |KY   |\n",
      "|1374  |992524383|125734142|1        |4/1/23       |(311) 273-5057|26888|USA    |Social Media   |9/17/25      |S             |Retired                          |0     |In Force             |1998      |Manufacturer1|2 door    |500.0        |15323              |0           |0              |0   |0    |0                     |0                      |0           |414.9301119             |KY   |\n",
      "|2341  |295816751|444869751|1        |6/7/04       |(925) 836-5746|53888|USA    |Website        |5/28/92      |D             |Sales and Related                |59806 |In Force             |2006      |Manufacturer3|4 door    |1600.5       |7378               |0           |0              |0   |0    |0                     |0                      |0           |61.62100095             |KY   |\n",
      "|2445  |318263509|769944197|1        |3/1/18       |(692) 427-1971|50609|USA    |Friend         |11/16/89     |M             |Office and Administrative Support|40269 |In Force             |2020      |Manufacturer2|2 door    |4022.4       |90171              |1           |0              |1   |0    |0                     |0                      |0           |413.6329951             |KY   |\n",
      "|2872  |794297567|107666968|1        |12/3/00      |(691) 388-9639|58213|USA    |Social Media   |7/17/31      |M             |Retired                          |0     |Customer Cancellation|1989      |Manufacturer4|4 door    |500.0        |55608              |1           |0              |0   |0    |0                     |0                      |0           |93.99963046             |KY   |\n",
      "|2946  |139373399|312214947|1        |11/7/01      |(419) 707-9478|65286|USA    |Other          |3/9/52       |S             |Retired                          |0     |In Force             |2014      |Manufacturer2|2 door    |2583.5       |83829              |0           |0              |1   |0    |0                     |1                      |0           |272.6906831             |KY   |\n",
      "|3172  |274246679|140189889|1        |2/6/03       |(468) 674-7775|43635|USA    |Website        |7/4/93       |D             |Healthcare Practitioner          |188914|In Force             |2013      |Manufacturer1|SUV       |18329.85     |15026              |0           |0              |0   |0    |1                     |0                      |0           |423.6870366             |KY   |\n",
      "|3296  |512902436|692592037|1        |6/23/09      |(572) 712-5899|64366|USA    |Email          |10/10/31     |D             |Retired                          |0     |In Force             |2016      |Manufacturer2|SUV       |4486.2       |73122              |0           |0              |1   |0    |0                     |1                      |0           |70.93181275             |KY   |\n",
      "|3422  |666553849|203899889|1        |3/22/13      |(424) 859-4571|95829|USA    |Other          |8/19/61      |M             |Sales and Related                |65240 |In Force             |2023      |Manufacturer2|2 door    |8353.35      |11755              |0           |0              |0   |0    |0                     |1                      |0           |361.645646              |KY   |\n",
      "|3615  |750214201|164972157|1        |3/30/91      |(923) 205-7499|29570|USA    |Email          |6/28/35      |D             |Retired                          |0     |In Force             |2016      |Manufacturer1|4 door    |23949.6      |7150               |0           |0              |1   |0    |0                     |0                      |0           |251.1732229             |KY   |\n",
      "|4057  |360909591|907152830|1        |6/29/91      |(457) 919-3918|99100|USA    |Event          |2/6/92       |S             |Healthcare Practitioner          |114616|In Force             |2002      |Manufacturer3|SUV       |500.0        |42384              |0           |0              |0   |0    |1                     |0                      |0           |330.9377422             |KY   |\n",
      "|4080  |767953695|609238651|1        |6/27/14      |(131) 292-7909|66036|USA    |Website        |5/2/25       |M             |Retired                          |0     |In Force             |1963      |Manufacturer2|Truck     |500.0        |10867              |0           |0              |1   |0    |0                     |0                      |0           |180.7463995             |KY   |\n",
      "|4320  |229790381|946988206|1        |4/2/90       |(243) 129-4838|59039|USA    |Email          |9/15/88      |D             |Education, Training, and Library |54229 |Customer Cancellation|2016      |Manufacturer2|4 door    |4578.0       |94463              |0           |0              |0   |0    |0                     |1                      |0           |312.2925748             |KY   |\n",
      "|4487  |774250742|825812648|1        |4/28/93      |(721) 600-7158|80222|USA    |Website        |6/10/80      |S             |Healthcare Practitioner          |148627|Customer Cancellation|2010      |Manufacturer2|SUV       |2492.4       |86995              |0           |0              |0   |0    |0                     |1                      |0           |256.2713083             |KY   |\n",
      "|4494  |977875589|188740070|1        |10/31/17     |(261) 611-8656|23435|USA    |Advertisement  |1/2/99       |D             |Education, Training, and Library |52730 |In Force             |2002      |Manufacturer3|4 door    |500.0        |4113               |0           |0              |0   |0    |1                     |1                      |0           |250.6807737             |KY   |\n",
      "|4506  |948027405|300026270|1        |7/23/22      |(130) 688-5119|60656|USA    |Social Media   |7/1/63       |S             |Office and Administrative Support|33918 |Customer Cancellation|2009      |Manufacturer2|SUV       |1770.0       |27437              |0           |0              |1   |0    |0                     |0                      |0           |251.2536613             |KY   |\n",
      "|4905  |439975855|259533172|1        |3/13/04      |(621) 911-1172|74978|USA    |Email          |4/5/74       |S             |Sales and Related                |37446 |In Force             |1974      |Manufacturer2|2 door    |500.0        |66473              |0           |0              |0   |0    |0                     |1                      |0           |335.0988236             |KY   |\n",
      "|4929  |142087288|177319632|1        |6/18/99      |(627) 902-7294|32964|USA    |Website        |7/2/05       |S             |Management                       |192076|In Force             |2012      |Manufacturer7|4 door    |21133.2      |4696               |0           |0              |1   |0    |1                     |0                      |0           |430.0042618             |KY   |\n",
      "|5040  |842027851|352696346|1        |4/10/16      |(843) 328-9489|16190|USA    |Friend         |8/16/05      |M             |Student                          |0     |In Force             |2004      |Manufacturer2|4 door    |500.0        |11654              |0           |0              |1   |0    |1                     |0                      |0           |258.3346107             |KY   |\n",
      "|5265  |263693207|249194015|1        |4/6/91       |(110) 790-4762|62474|USA    |Event          |5/24/96      |D             |Office and Administrative Support|38183 |In Force             |2024      |Manufacturer5|SUV       |25427.0      |74969              |0           |0              |0   |0    |0                     |0                      |0           |367.4796967             |KY   |\n",
      "+------+---------+---------+---------+-------------+--------------+-----+-------+---------------+-------------+--------------+---------------------------------+------+---------------------+----------+-------------+----------+-------------+-------------------+------------+---------------+----+-----+----------------------+-----------------------+------------+------------------------+-----+\n",
      "only showing top 20 rows\n",
      "\n"
     ]
    }
   ],
   "source": [
    "df = spark.read.parquet(INPUT_DIR).filter(F.col(\"active_hh\") == 1)   # filter to read only active households\n",
    "df.printSchema()\n",
    "df.show(truncate=False)"
   ]
  },
  {
   "cell_type": "markdown",
   "metadata": {},
   "source": [
    "***<span style=\"color: orange;\">1. Finding average number of cars per household:</span>***"
   ]
  },
  {
   "cell_type": "code",
   "execution_count": 5,
   "metadata": {},
   "outputs": [
    {
     "name": "stdout",
     "output_type": "stream",
     "text": [
      "+-----------------+\n",
      "|    avg_car_count|\n",
      "+-----------------+\n",
      "|3.808907159335808|\n",
      "+-----------------+\n",
      "\n",
      "Average number of cars per ACTIVE household: 3.808907159335808\n"
     ]
    }
   ],
   "source": [
    "from pyspark.sql import functions as F\n",
    "\n",
    "average_cars_per_household = (\n",
    "    df.groupBy(\"hh_id\")                              # Group by household ID\n",
    "    .agg(F.count(\"car_id\").alias(\"car_count\"))       # Count the number of cars per household\n",
    "    .agg(F.avg(\"car_count\").alias(\"avg_car_count\"))  # Calculate the average number of cars\n",
    ")\n",
    "\n",
    "average_cars_per_household.show()\n",
    "print(f\"Average number of cars per ACTIVE household: {average_cars_per_household.collect()[0][0]}\")"
   ]
  },
  {
   "cell_type": "markdown",
   "metadata": {},
   "source": [
    "***<span style=\"color: orange;\">2. Finding count of cars by model year:</span>***"
   ]
  },
  {
   "cell_type": "code",
   "execution_count": 6,
   "metadata": {},
   "outputs": [
    {
     "name": "stdout",
     "output_type": "stream",
     "text": [
      "model_year: 1952, count: 2025\n",
      "model_year: 1953, count: 2022\n",
      "model_year: 1954, count: 2069\n",
      "model_year: 1955, count: 2059\n",
      "model_year: 1956, count: 2007\n",
      "model_year: 1957, count: 2013\n",
      "model_year: 1958, count: 2078\n",
      "model_year: 1959, count: 2008\n",
      "model_year: 1960, count: 2017\n",
      "model_year: 1961, count: 2012\n",
      "model_year: 1962, count: 2034\n",
      "model_year: 1963, count: 1995\n",
      "model_year: 1964, count: 2008\n",
      "model_year: 1965, count: 2018\n",
      "model_year: 1966, count: 1966\n",
      "model_year: 1967, count: 2040\n",
      "model_year: 1968, count: 1945\n",
      "model_year: 1969, count: 2003\n",
      "model_year: 1970, count: 2025\n",
      "model_year: 1971, count: 2039\n",
      "model_year: 1972, count: 2038\n",
      "model_year: 1973, count: 1967\n",
      "model_year: 1974, count: 1977\n",
      "model_year: 1975, count: 2047\n",
      "model_year: 1976, count: 2069\n",
      "model_year: 1977, count: 1993\n",
      "model_year: 1978, count: 2026\n",
      "model_year: 1979, count: 2009\n",
      "model_year: 1980, count: 1898\n",
      "model_year: 1981, count: 2046\n",
      "model_year: 1982, count: 2088\n",
      "model_year: 1983, count: 1993\n",
      "model_year: 1984, count: 2026\n",
      "model_year: 1985, count: 1956\n",
      "model_year: 1986, count: 2049\n",
      "model_year: 1987, count: 1953\n",
      "model_year: 1988, count: 2013\n",
      "model_year: 1989, count: 2032\n",
      "model_year: 1990, count: 2001\n",
      "model_year: 1991, count: 2007\n",
      "model_year: 1992, count: 1971\n",
      "model_year: 1993, count: 1986\n",
      "model_year: 1994, count: 2036\n",
      "model_year: 1995, count: 2044\n",
      "model_year: 1996, count: 2017\n",
      "model_year: 1997, count: 2018\n",
      "model_year: 1998, count: 2052\n",
      "model_year: 1999, count: 2042\n",
      "model_year: 2000, count: 1984\n",
      "model_year: 2001, count: 1977\n",
      "model_year: 2002, count: 13032\n",
      "model_year: 2003, count: 12903\n",
      "model_year: 2004, count: 13211\n",
      "model_year: 2005, count: 13097\n",
      "model_year: 2006, count: 12981\n",
      "model_year: 2007, count: 13085\n",
      "model_year: 2008, count: 12999\n",
      "model_year: 2009, count: 13179\n",
      "model_year: 2010, count: 12951\n",
      "model_year: 2011, count: 13191\n",
      "model_year: 2012, count: 13054\n",
      "model_year: 2013, count: 12977\n",
      "model_year: 2014, count: 13108\n",
      "model_year: 2015, count: 13150\n",
      "model_year: 2016, count: 13205\n",
      "model_year: 2017, count: 13184\n",
      "model_year: 2018, count: 12992\n",
      "model_year: 2019, count: 12882\n",
      "model_year: 2020, count: 12947\n",
      "model_year: 2021, count: 13248\n",
      "model_year: 2022, count: 12992\n",
      "model_year: 2023, count: 12940\n",
      "model_year: 2024, count: 13190\n"
     ]
    }
   ],
   "source": [
    "cars_by_model_year = (\n",
    "                        df.groupBy(\"model_year\")                      # Group by model year\n",
    "                        .agg(F.count(\"car_id\").alias(\"car_count\"))  # Count the number of cars per model_year\n",
    "                        .orderBy(\"model_year\")                      # Order by model year\n",
    "                        .collect()\n",
    "                    )\n",
    "\n",
    "for item in cars_by_model_year:\n",
    "    print(f\"model_year: {item[0]}, count: {item[1]}\")"
   ]
  },
  {
   "cell_type": "markdown",
   "metadata": {},
   "source": [
    "<u style=\"color: green;\">***OBSERVATION:***</u> &nbsp;\n",
    "\n",
    "- **The number of cars produced per year between 1952 and 2001 remains consistent, averaging around 2,000 cars annually, with no major fluctuations.**\n",
    "- **Starting from the year 2002, there is a significant spike in car counts, reaching around 13,000 cars annually. This trend continues steadily up to 2024.**\n",
    "- **The highest production volume is observed in the year 2021, with a count of 13,248 cars.**\n",
    "\n",
    "**This suggests a sharp increase in car production starting in the early 2000s, continuing consistently through the 2020s.**"
   ]
  },
  {
   "cell_type": "markdown",
   "metadata": {},
   "source": [
    "***<span style=\"color: orange;\">3. Finding count of cars by make:</span>***"
   ]
  },
  {
   "cell_type": "code",
   "execution_count": 7,
   "metadata": {},
   "outputs": [
    {
     "name": "stdout",
     "output_type": "stream",
     "text": [
      "make: Manufacturer3, count: 80293\n",
      "make: Manufacturer2, count: 80235\n",
      "make: Manufacturer1, count: 80166\n",
      "make: Manufacturer6, count: 52369\n",
      "make: Manufacturer7, count: 52338\n",
      "make: Manufacturer5, count: 27929\n",
      "make: Manufacturer4, count: 27866\n"
     ]
    }
   ],
   "source": [
    "cars_by_make = ( df.groupBy(\"make\")\n",
    "                    .agg({\"car_id\": \"count\"})\n",
    "                    .orderBy(\"count(car_id)\", ascending=False)\n",
    "                    .collect()\n",
    "                )\n",
    "                    \n",
    "for item in cars_by_make:\n",
    "    print(f\"make: {item[0]}, count: {item[1]}\")"
   ]
  },
  {
   "cell_type": "markdown",
   "metadata": {},
   "source": [
    "<u style=\"color: green;\">**OBSERVATION:**</u> &nbsp;\n",
    "\n",
    "- **Manufacturer3 has the highest count of cars, with 80,293 vehicles.**\n",
    "- **Manufacturer2 and Manufacturer1 follow closely behind, with 80,235 and 80,166 cars, respectively.**\n",
    "- **Manufacturer6 and Manufacturer7 have moderate car counts, with 52,369 and 52,338 vehicles, respectively.**\n",
    "- **Manufacturer5 and Manufacturer4 have the lowest counts among the group, with 27,929 and 27,866 cars, respectively.**\n",
    "\n",
    "**This suggests that Manufacturers 1, 2, and 3 dominate in terms of car production, while Manufacturers 5 and 4 have significantly smaller outputs.**"
   ]
  },
  {
   "cell_type": "markdown",
   "metadata": {},
   "source": [
    "***<span style=\"color: orange;\">4. Finding the safest cars:</span>***"
   ]
  },
  {
   "cell_type": "markdown",
   "metadata": {},
   "source": [
    "**There could be 2 definitions of \"safe car\" in this context:**  \n",
    "  \n",
    "*&nbsp;1. Intrinsic safety of the car, where a car is defined by (model_year, make, body_style)*  \n",
    "*&nbsp;2. Safety of each individual car viewed holistically from an insurance standpoint (includes safety rating of car and the driver's track record)*"
   ]
  },
  {
   "cell_type": "code",
   "execution_count": 8,
   "metadata": {},
   "outputs": [
    {
     "name": "stdout",
     "output_type": "stream",
     "text": [
      "Total Count of Cars: 2044\n",
      "\n",
      "--------------------\n",
      "Total Count of Distinct Cars with Average Vehicle Safety Discount >= 0.75: 27\n",
      "\n",
      "--------------------\n",
      "DETAILS:\n",
      "--------------------\n",
      "+----------+-------------+----------+---------+---------------------------+\n",
      "|model_year|         make|body_style|car_count|avg_vehicle_safety_discount|\n",
      "+----------+-------------+----------+---------+---------------------------+\n",
      "|      1998|Manufacturer4|     Truck|        1|                        1.0|\n",
      "|      2023|Manufacturer7|     Truck|      114|         0.8333333333333334|\n",
      "|      2000|Manufacturer5|     Truck|        6|         0.8333333333333334|\n",
      "|      2021|Manufacturer7|     Truck|      129|         0.7984496124031008|\n",
      "|      2024|Manufacturer6|    2 door|      509|          0.793713163064833|\n",
      "|      2023|Manufacturer6|    4 door|      532|         0.7875939849624061|\n",
      "|      2020|Manufacturer6|     Truck|      128|                    0.78125|\n",
      "|      2024|Manufacturer6|     Truck|      128|                    0.78125|\n",
      "|      2021|Manufacturer6|       SUV|      581|         0.7779690189328744|\n",
      "|      2020|Manufacturer7|    2 door|      501|         0.7764471057884231|\n",
      "|      2022|Manufacturer6|    4 door|      475|         0.7747368421052632|\n",
      "|      2023|Manufacturer7|    2 door|      476|          0.773109243697479|\n",
      "|      2021|Manufacturer7|    2 door|      495|         0.7696969696969697|\n",
      "|      2021|Manufacturer6|    2 door|      534|         0.7677902621722846|\n",
      "|      2024|Manufacturer6|    4 door|      529|         0.7655954631379962|\n",
      "|      2022|Manufacturer6|       SUV|      552|         0.7626811594202898|\n",
      "|      2022|Manufacturer7|     Truck|      126|         0.7619047619047619|\n",
      "|      2023|Manufacturer6|       SUV|      520|         0.7615384615384615|\n",
      "|      2022|Manufacturer7|    2 door|      487|         0.7597535934291582|\n",
      "|      2021|Manufacturer6|    4 door|      528|         0.7575757575757576|\n",
      "|      2023|Manufacturer6|    2 door|      526|         0.7566539923954373|\n",
      "|      2023|Manufacturer7|       SUV|      561|         0.7557932263814616|\n",
      "|      2023|Manufacturer6|     Truck|      114|         0.7543859649122807|\n",
      "|      2024|Manufacturer7|       SUV|      546|         0.7509157509157509|\n",
      "|      1990|Manufacturer5|     Truck|        8|                       0.75|\n",
      "|      1956|Manufacturer5|     Truck|       12|                       0.75|\n",
      "|      1979|Manufacturer4|     Truck|        4|                       0.75|\n",
      "+----------+-------------+----------+---------+---------------------------+\n",
      "\n"
     ]
    }
   ],
   "source": [
    "from pyspark.sql import functions as F\n",
    "\n",
    "# Query to identify the safest cars based on average vehicle safety discount, with a minimum threshold of 0.75.\n",
    "intrinsic_safety = (\n",
    "    df.groupBy(\"model_year\", \"make\", \"body_style\")\n",
    "    .agg(\n",
    "        F.count(\"car_id\").alias(\"car_count\"),\n",
    "        F.avg(\"vehicle_safety_discount\").alias(\"avg_vehicle_safety_discount\")\n",
    "    )\n",
    ")\n",
    "\n",
    "# Total count of cars after the groupBy operation\n",
    "total_cars_count = intrinsic_safety.count()\n",
    "print(f\"Total Count of Cars: {total_cars_count}\\n\")\n",
    "print(\"-\"*20)\n",
    "\n",
    "# Filter for safety discount >= 0.75\n",
    "filtered_intrinsic_safety = intrinsic_safety.filter(F.col(\"avg_vehicle_safety_discount\") >= 0.75) \n",
    "# Order by average vehicle safety discount\n",
    "filtered_intrinsic_safety = filtered_intrinsic_safety.orderBy(\"avg_vehicle_safety_discount\", ascending=False)\n",
    "\n",
    "# Overall count of distinct cars that meet the safety criteria\n",
    "distinct_cars_count = filtered_intrinsic_safety.count()\n",
    "print(f\"Total Count of Distinct Cars with Average Vehicle Safety Discount >= 0.75: {distinct_cars_count}\\n\")\n",
    "print(\"-\"*20)\n",
    "print(\"DETAILS:\")\n",
    "print(\"-\"*20)\n",
    "filtered_intrinsic_safety.show(distinct_cars_count)\n"
   ]
  },
  {
   "cell_type": "markdown",
   "metadata": {},
   "source": [
    "<u style=\"color: green;\">**OBSERVATION:**</u> &nbsp;\n",
    "\n",
    "- **Out of 2044 cars in the active household, 27 cars are the safest with an avg_vehicle_safety_discount over 0.75**"
   ]
  },
  {
   "cell_type": "code",
   "execution_count": 9,
   "metadata": {},
   "outputs": [
    {
     "name": "stdout",
     "output_type": "stream",
     "text": [
      "Total record count: 34169\n",
      "+------+----------+-------------+----------+---------------------------+--------------------------+------------------+-------------------------+----------------------+\n",
      "|car_id|model_year|make         |body_style|avg_vehicle_safety_discount|avg_driver_safety_discount|total_claim_payout|total_annual_miles_driven|risk_exposure_per_mile|\n",
      "+------+----------+-------------+----------+---------------------------+--------------------------+------------------+-------------------------+----------------------+\n",
      "|614639|1989      |Manufacturer3|SUV       |1.0                        |1.0                       |0                 |2                        |0.0                   |\n",
      "|904603|2011      |Manufacturer7|2 door    |1.0                        |1.0                       |0                 |2                        |0.0                   |\n",
      "|422559|2024      |Manufacturer4|SUV       |1.0                        |1.0                       |0                 |2                        |0.0                   |\n",
      "|434177|2020      |Manufacturer2|4 door    |1.0                        |1.0                       |0                 |2                        |0.0                   |\n",
      "|946048|2011      |Manufacturer4|SUV       |1.0                        |1.0                       |0                 |3                        |0.0                   |\n",
      "|607570|1967      |Manufacturer4|SUV       |1.0                        |1.0                       |0                 |3                        |0.0                   |\n",
      "|405400|2019      |Manufacturer1|2 door    |1.0                        |1.0                       |0                 |3                        |0.0                   |\n",
      "|883737|2011      |Manufacturer2|4 door    |1.0                        |1.0                       |0                 |4                        |0.0                   |\n",
      "|194907|2018      |Manufacturer7|4 door    |1.0                        |1.0                       |0                 |4                        |0.0                   |\n",
      "|28954 |1984      |Manufacturer3|Truck     |1.0                        |1.0                       |0                 |4                        |0.0                   |\n",
      "|827951|2019      |Manufacturer7|2 door    |1.0                        |1.0                       |0                 |5                        |0.0                   |\n",
      "|686570|1954      |Manufacturer6|2 door    |1.0                        |1.0                       |0                 |5                        |0.0                   |\n",
      "|847265|1956      |Manufacturer1|SUV       |1.0                        |1.0                       |0                 |5                        |0.0                   |\n",
      "|818631|1972      |Manufacturer4|SUV       |1.0                        |1.0                       |0                 |5                        |0.0                   |\n",
      "|810692|2024      |Manufacturer2|4 door    |1.0                        |1.0                       |0                 |5                        |0.0                   |\n",
      "|307325|1969      |Manufacturer3|SUV       |1.0                        |1.0                       |0                 |6                        |0.0                   |\n",
      "|857945|1985      |Manufacturer4|Truck     |1.0                        |1.0                       |0                 |7                        |0.0                   |\n",
      "|764220|2015      |Manufacturer7|2 door    |1.0                        |1.0                       |0                 |7                        |0.0                   |\n",
      "|960743|1980      |Manufacturer3|SUV       |1.0                        |1.0                       |0                 |7                        |0.0                   |\n",
      "|559627|2017      |Manufacturer5|2 door    |1.0                        |1.0                       |0                 |7                        |0.0                   |\n",
      "+------+----------+-------------+----------+---------------------------+--------------------------+------------------+-------------------------+----------------------+\n",
      "only showing top 20 rows\n",
      "\n"
     ]
    }
   ],
   "source": [
    "from pyspark.sql import functions as F\n",
    "from pyspark.sql import SparkSession\n",
    "from datetime import datetime\n",
    "\n",
    "# Exclude records where annual_miles_driven = 0, and ensure both discounts are enabled\n",
    "filtered_df = (df.filter((F.col(\"annual_miles_driven\") > 0) & \n",
    "                         (F.col(\"driver_safety_discount\") == 1) & \n",
    "                         (F.col(\"vehicle_safety_discount\") == 1)))\n",
    "\n",
    "# Perform aggregation and calculate claims per mile\n",
    "safety_indicators = (filtered_df.groupBy(\"car_id\", \"model_year\", \"make\", \"body_style\")\n",
    "                     .agg(\n",
    "                         F.sum(\"claim_payout\").alias(\"total_claim_payout\"),                      # Sum of claim payouts\n",
    "                         F.avg(\"vehicle_safety_discount\").alias(\"avg_vehicle_safety_discount\"),  # Avg vehicle safety discount\n",
    "                         F.avg(\"driver_safety_discount\").alias(\"avg_driver_safety_discount\"),    # Avg driver safety discount\n",
    "                         F.sum(\"annual_miles_driven\").alias(\"total_annual_miles_driven\")         # Sum of annual miles driven\n",
    "                     )\n",
    "                     .withColumn(\"risk_exposure_per_mile\", \n",
    "                                        F.col(\"total_claim_payout\") / F.col(\"total_annual_miles_driven\"))\n",
    "                     .orderBy(\"risk_exposure_per_mile\", \"total_annual_miles_driven\")\n",
    "                    )\n",
    "\n",
    "# Get total record count\n",
    "record_count = safety_indicators.count()\n",
    "print(f\"Total record count: {record_count}\")\n",
    "\n",
    "# Calculate top 10% of records\n",
    "top_10_percent_count = int(record_count * 0.1)\n",
    "\n",
    "# Get the top 10% of records based on claims_per_mile\n",
    "top_10_percent_records = safety_indicators.limit(top_10_percent_count)\n",
    "\n",
    "# Show the top 10% of records with the required columns\n",
    "top_10_percent_records.select(\"car_id\", \"model_year\", \"make\", \"body_style\", \n",
    "                              \"avg_vehicle_safety_discount\", \"avg_driver_safety_discount\", \n",
    "                              \"total_claim_payout\", \"total_annual_miles_driven\", \n",
    "                              \"risk_exposure_per_mile\").show(truncate=False)"
   ]
  },
  {
   "cell_type": "markdown",
   "metadata": {},
   "source": [
    "<u style=\"color: red;\">**NOTE:**</u> &nbsp;\n",
    "\n",
    "- **The top 10% of cars with the lowest risk exposure per mile are identified as the safest cars.**\n",
    "- **The number of safest cars is determined by the value of 'n' in the top n% of cars with the least risk exposure per mile.**\n",
    "- **The logic based on risk exposure per mile is essential, as average vehicle safety discount and average driver safety discount alone are insufficient to determine the safest cars.**\n",
    "- **For instance, consider the below record where both average vehicle safety discount and average driver safety discount are 1, yet the risk exposure per mile exceeds $3,100.**"
   ]
  },
  {
   "cell_type": "code",
   "execution_count": 10,
   "metadata": {},
   "outputs": [
    {
     "name": "stdout",
     "output_type": "stream",
     "text": [
      "+------+----------+-------------+----------+---------------------------+--------------------------+------------------+-------------------------+----------------------+\n",
      "|car_id|model_year|make         |body_style|avg_vehicle_safety_discount|avg_driver_safety_discount|total_claim_payout|total_annual_miles_driven|risk_exposure_per_mile|\n",
      "+------+----------+-------------+----------+---------------------------+--------------------------+------------------+-------------------------+----------------------+\n",
      "|170245|2013      |Manufacturer3|4 door    |1.0                        |1.0                       |990176            |317                      |3123.583596214511     |\n",
      "+------+----------+-------------+----------+---------------------------+--------------------------+------------------+-------------------------+----------------------+\n",
      "\n"
     ]
    }
   ],
   "source": [
    "last_record = safety_indicators.orderBy(F.col(\"risk_exposure_per_mile\").desc(), F.col(\"total_annual_miles_driven\").desc()).limit(1)\n",
    "\n",
    "# Step 4: Show the last record\n",
    "last_record.select(\"car_id\", \"model_year\", \"make\", \"body_style\", \n",
    "                   \"avg_vehicle_safety_discount\", \"avg_driver_safety_discount\", \n",
    "                   \"total_claim_payout\", \"total_annual_miles_driven\", \n",
    "                   \"risk_exposure_per_mile\").show(truncate=False)"
   ]
  },
  {
   "cell_type": "markdown",
   "metadata": {},
   "source": [
    "***<span style=\"color: orange;\">5. Finding states that have the largest households (defined as number of customers in a household):</span>***"
   ]
  },
  {
   "cell_type": "code",
   "execution_count": 11,
   "metadata": {},
   "outputs": [
    {
     "name": "stdout",
     "output_type": "stream",
     "text": [
      "+-----+----------------------+\n",
      "|state|average_household_size|\n",
      "+-----+----------------------+\n",
      "|   AR|    3.8767441860465115|\n",
      "|   MA|     3.861652739090065|\n",
      "|   NE|    3.8559322033898304|\n",
      "|   MD|    3.8551724137931034|\n",
      "|   WA|     3.853885528152629|\n",
      "|   ME|     3.853099072718399|\n",
      "|   HI|    3.8526513374002818|\n",
      "|   AL|     3.849606663581675|\n",
      "|   MI|     3.849462365591398|\n",
      "|   NV|    3.8488372093023258|\n",
      "|   VA|    3.8472086190009795|\n",
      "|   IA|    3.8444553483807655|\n",
      "|   KS|    3.8362745098039217|\n",
      "|   AK|     3.833788706739526|\n",
      "|   UT|     3.832289156626506|\n",
      "|   ND|    3.8296438883541866|\n",
      "|   IN|     3.829003306565895|\n",
      "|   GA|    3.8277959756668225|\n",
      "|   SC|    3.8128681468056187|\n",
      "|   MO|     3.811294117647059|\n",
      "|   TN|      3.81115017579106|\n",
      "|   ID|    3.8103870651641354|\n",
      "|   VT|    3.8091942659416707|\n",
      "|   IL|      3.80863309352518|\n",
      "|   MT|    3.8058766859344892|\n",
      "|   NY|    3.8053097345132745|\n",
      "|   KY|    3.8037718904355637|\n",
      "|   LA|    3.8008827856792546|\n",
      "|   MN|     3.800182898948331|\n",
      "|   WY|      3.79871618523613|\n",
      "|   CA|     3.798367738838214|\n",
      "|   MS|    3.7954759660697457|\n",
      "|   AZ|    3.7933649289099525|\n",
      "|   NM|    3.7924616100511868|\n",
      "|   OH|    3.7886178861788617|\n",
      "|   CT|     3.786990380210719|\n",
      "|   RI|     3.786522148916117|\n",
      "|   NC|    3.7824628653569716|\n",
      "|   WV|     3.779362815026153|\n",
      "|   TX|    3.7773584905660376|\n",
      "|   NJ|    3.7749520153550864|\n",
      "|   FL|    3.7714825306893296|\n",
      "|   CO|     3.770541082164329|\n",
      "|   OR|    3.7694835680751173|\n",
      "|   WI|    3.7663147792706333|\n",
      "|   NH|     3.764761904761905|\n",
      "|   SD|     3.762540266912103|\n",
      "|   DE|     3.760135135135135|\n",
      "|   PA|    3.7595870206489677|\n",
      "|   OK|    3.7448342143200386|\n",
      "+-----+----------------------+\n",
      "\n"
     ]
    }
   ],
   "source": [
    "from pyspark.sql import functions as F\n",
    "\n",
    "# Group by hh_id to aggregate household data\n",
    "household_data = (df.groupBy(\"hh_id\")  \n",
    "                  .agg(\n",
    "                      F.countDistinct(\"cust_id\").alias(\"household_size\"),  # Count distinct cust_id for household size\n",
    "                      F.first(\"state\").alias(\"state\")                      # Retain the state (first occurrence)\n",
    "                  )\n",
    "                 )\n",
    "\n",
    "# Group by state and calculate average household size\n",
    "state_average_household_size = (household_data.groupBy(\"state\")\n",
    "                                 .agg(F.avg(\"household_size\").alias(\"average_household_size\"))\n",
    "                                 .orderBy(F.desc(\"average_household_size\")))\n",
    "\n",
    "state_average_household_size.show(50)"
   ]
  },
  {
   "cell_type": "markdown",
   "metadata": {},
   "source": [
    "<u style=\"color: green;\">**OBSERVATION:**</u> &nbsp;\n",
    "\n",
    "- **Arkansas (AR) has the largest average household size, with approximately 3.88 customers per household.**\n",
    "- **Following closely are Massachusetts (MA) and Nebraska (NE), both with average household sizes around 3.86.**\n",
    "- **Overall, there isn't a significant difference in average household sizes across these states, indicating a relatively uniform pattern in household composition.**"
   ]
  },
  {
   "cell_type": "markdown",
   "metadata": {},
   "source": [
    "***<span style=\"color: orange;\">6. Finding number of active households as of 1/1/2021:</span>***"
   ]
  },
  {
   "cell_type": "code",
   "execution_count": 14,
   "metadata": {},
   "outputs": [
    {
     "name": "stdout",
     "output_type": "stream",
     "text": [
      "Total Count of Households: 105331\n",
      "Active households as of 1/1/2021: 63279\n"
     ]
    }
   ],
   "source": [
    "from pyspark.sql import functions as F\n",
    "from pyspark.sql.functions import col\n",
    "\n",
    "total_households = df.select(\"hh_id\").distinct().count()\n",
    "print(f\"Total Count of Households: {total_households}\")\n",
    "\n",
    "active_households = (df.filter(F.to_date(col(\"hh_start_date\"), \"M/d/yy\") <= F.to_date(F.lit(\"1/1/21\"), \"M/d/yy\")) \n",
    "                     .select(\"hh_id\") \n",
    "                     .distinct() \n",
    "                     .count())\n",
    "\n",
    "print(f\"Active households as of 1/1/2021: {active_households}\")"
   ]
  },
  {
   "cell_type": "markdown",
   "metadata": {},
   "source": [
    "<u style=\"color: green;\">**OBSERVATION:**</u> &nbsp;\n",
    "\n",
    "- **Out of 105331 active households, 63279 of them were active as of 1/1/2021.**"
   ]
  },
  {
   "cell_type": "markdown",
   "metadata": {},
   "source": [
    "***<span style=\"color: orange;\">7. Finding average age of customers:</span>***"
   ]
  },
  {
   "cell_type": "code",
   "execution_count": 36,
   "metadata": {},
   "outputs": [
    {
     "name": "stdout",
     "output_type": "stream",
     "text": [
      "+-------------+----------+\n",
      "|date_of_birth|birth_date|\n",
      "+-------------+----------+\n",
      "|11/22/01     |2001-11-22|\n",
      "|9/17/25      |1925-09-17|\n",
      "|5/28/92      |1992-05-28|\n",
      "|11/16/89     |1989-11-16|\n",
      "|7/17/31      |1931-07-17|\n",
      "|3/9/52       |1952-03-09|\n",
      "|7/4/93       |1993-07-04|\n",
      "|10/10/31     |1931-10-10|\n",
      "|8/19/61      |1961-08-19|\n",
      "|6/28/35      |1935-06-28|\n",
      "|2/6/92       |1992-02-06|\n",
      "|5/2/25       |1925-05-02|\n",
      "|9/15/88      |1988-09-15|\n",
      "|6/10/80      |1980-06-10|\n",
      "|1/2/99       |1999-01-02|\n",
      "|7/1/63       |1963-07-01|\n",
      "|4/5/74       |1974-04-05|\n",
      "|7/2/05       |2005-07-02|\n",
      "|8/16/05      |2005-08-16|\n",
      "|5/24/96      |1996-05-24|\n",
      "+-------------+----------+\n",
      "only showing top 20 rows\n",
      "\n",
      "The average age of customers is: 49.86\n"
     ]
    }
   ],
   "source": [
    "from pyspark.sql import functions as F\n",
    "from datetime import datetime\n",
    "\n",
    "# UDF to parse date_of_birth and handle the two-digit years in M/d/yy format\n",
    "def parse_dob(dob):\n",
    "    if not dob:\n",
    "        return None\n",
    "    \n",
    "    # Split the date string and handle the parsing\n",
    "    try:\n",
    "        month, day, year = map(int, dob.split('/'))\n",
    "        current_year = datetime.now().year\n",
    "        cutoff_year = current_year % 100             # Get the last two digits of the current year\n",
    "\n",
    "        # Determine the full year based on the logic for two-digit years\n",
    "        if year >= 0 and year <= cutoff_year:        # 00 to cutoff_year => 2000-current_year\n",
    "            year += 2000\n",
    "        else:                                        # (cutoff_year+1) to 99 => 1925-1999\n",
    "            year += 1900\n",
    "        \n",
    "        return f\"{year}-{month:02}-{day:02}\"\n",
    "    except Exception:\n",
    "        return None\n",
    "\n",
    "parse_dob_udf = F.udf(parse_dob)\n",
    "df_with_dob = df.withColumn(\"birth_date\", parse_dob_udf(F.col(\"date_of_birth\")))\n",
    "\n",
    "# Show sample birth dates and parsed birth dates\n",
    "df_with_dob.select(\"date_of_birth\", \"birth_date\").show(truncate=False)\n",
    "\n",
    "# Calculate age based on birth_date\n",
    "current_date = datetime.now()\n",
    "df_with_age = df_with_dob.withColumn(\"age\", F.year(F.lit(current_date)) - F.year(F.col(\"birth_date\")))\n",
    "\n",
    "print(f\"The average age of customers is: {average_age:.2f}\")"
   ]
  },
  {
   "cell_type": "markdown",
   "metadata": {},
   "source": [
    "***<span style=\"color: orange;\">8. Variations in age of customers by region:</span>***"
   ]
  },
  {
   "cell_type": "code",
   "execution_count": 43,
   "metadata": {},
   "outputs": [
    {
     "name": "stdout",
     "output_type": "stream",
     "text": [
      "+-----+------------------+-------+-------+-----+\n",
      "|state|       average_age|min_age|max_age|count|\n",
      "+-----+------------------+-------+-------+-----+\n",
      "|   AZ| 50.65067466266866|      0|     99| 8004|\n",
      "|   ME| 50.56493095147599|      0|     99| 7893|\n",
      "|   KS| 50.40227534194043|      0|     99| 7823|\n",
      "|   CO| 50.30515683147262|      0|     99| 7524|\n",
      "|   IL| 50.27376904671956|      0|     99| 7941|\n",
      "|   PA| 50.24231724859422|      0|     99| 7647|\n",
      "|   DE| 50.21062764728533|      0|     99| 7791|\n",
      "|   AR| 50.15776844631074|      0|     99| 8335|\n",
      "|   FL| 50.15564738292011|      0|     99| 7986|\n",
      "|   HI|50.051522533495735|      0|     99| 8210|\n",
      "|   CT| 50.04209507681142|      0|     99| 8267|\n",
      "|   MD| 50.04100664282064|      0|     99| 7828|\n",
      "|   MS| 50.00397268777157|      0|     99| 8055|\n",
      "|   CA| 50.00353892821031|      0|     99| 7912|\n",
      "|   TN| 49.96718502899315|      0|     99| 7588|\n",
      "|   IN| 49.96669133974834|      0|     99| 8106|\n",
      "|   UT| 49.96554325955734|      0|     99| 7952|\n",
      "|   NM|49.965398773006136|      0|     99| 8150|\n",
      "|   IA| 49.94830227214705|      0|     99| 7834|\n",
      "|   WI|49.923047521977324|      0|     99| 7849|\n",
      "|   VT|   49.919922128488|      0|     99| 7705|\n",
      "|   AL|49.908402452217814|      0|     99| 8319|\n",
      "|   AK|49.908205676285476|      0|     99| 8421|\n",
      "|   NV| 49.89521392313271|      0|     99| 8274|\n",
      "|   OK| 49.87411779802387|      0|     99| 7793|\n",
      "|   MI|49.843211076026236|      0|     99| 8234|\n",
      "|   NH| 49.82481659499115|      0|     99| 7906|\n",
      "|   RI|49.800199054491166|      0|     99| 8038|\n",
      "|   MA| 49.79855769230769|      0|     99| 8320|\n",
      "|   NJ|49.794435268707915|      0|     99| 7871|\n",
      "|   MN|  49.7839008542895|      0|     99| 8311|\n",
      "|   VA| 49.77367617107943|      0|     99| 7856|\n",
      "|   WV| 49.77226975339708|      0|     99| 7948|\n",
      "|   NE| 49.74603174603175|      0|     99| 8190|\n",
      "|   MT| 49.74142513605873|      0|     99| 7901|\n",
      "|   SC| 49.71990493166964|      0|     99| 8415|\n",
      "|   NY|49.716332027424095|      0|     99| 8168|\n",
      "|   OH|49.684675586972986|      0|     99| 7922|\n",
      "|   GA|49.681051344743274|      0|     99| 8180|\n",
      "|   WY| 49.65950512975257|      0|     99| 8285|\n",
      "|   ID| 49.62876254180602|      0|     99| 7774|\n",
      "|   KY| 49.60125162356831|      0|     99| 8469|\n",
      "|   ND| 49.58544860517718|      0|     99| 7958|\n",
      "|   OR|49.486927290836654|      0|     99| 8032|\n",
      "|   WA|49.426708524510985|      0|     99| 8282|\n",
      "|   MO|49.382886776145206|      0|     99| 8099|\n",
      "|   TX| 49.32596754057428|      0|     99| 8010|\n",
      "|   SD|  49.3158023483366|      0|     99| 8176|\n",
      "|   LA|49.306709677419356|      0|     99| 7750|\n",
      "|   NC| 49.30656194578161|      0|     99| 7894|\n",
      "+-----+------------------+-------+-------+-----+\n",
      "\n"
     ]
    }
   ],
   "source": [
    "age_by_region = df_with_age.groupBy(\"state\").agg(\n",
    "    F.avg(\"age\").alias(\"average_age\"),\n",
    "    F.min(\"age\").alias(\"min_age\"),\n",
    "    F.max(\"age\").alias(\"max_age\"),\n",
    "    F.count(\"*\").alias(\"count\")\n",
    ")\n",
    "\n",
    "age_by_region.orderBy(F.desc(\"average_age\")).show(50) # show for all 50 states"
   ]
  },
  {
   "cell_type": "markdown",
   "metadata": {},
   "source": [
    "<u style=\"color: green;\">**OBSERVATION:**</u> &nbsp;\n",
    "\n",
    "- **Arizona (AZ) has the highest average age at approximately 50.65 years, indicating a potentially aging population.**\n",
    "- **States like Maine (ME), Kansas (KS), and Colorado (CO) also show average ages above 50 years, suggesting similar demographic trends.**\n",
    "- **Conversely, states like Texas (TX) and Louisiana (LA) have lower average ages (around 49.32 to 49.30 years), reflecting a younger population in these regions.**\n",
    "- **The minimum age recorded across all states is 0, while the maximum age reaches up to 99 years, showing a significant range in age distribution.**\n",
    "- **The average ages across states tend to cluster closely.**"
   ]
  },
  {
   "cell_type": "markdown",
   "metadata": {},
   "source": [
    "***<span style=\"color: orange;\">9. Finding age group with the most expensive claims:</span>***"
   ]
  },
  {
   "cell_type": "code",
   "execution_count": 48,
   "metadata": {},
   "outputs": [
    {
     "name": "stdout",
     "output_type": "stream",
     "text": [
      "+---------+--------------------+-----------+\n",
      "|age_group|average_claim_amount|claim_count|\n",
      "+---------+--------------------+-----------+\n",
      "|    51-65|   1404.081490853279|      48214|\n",
      "|    19-35|   1254.098253557568|     123680|\n",
      "|     0-18|   1199.234251686038|      27876|\n",
      "|    66-80|  1187.6606105978162|      54766|\n",
      "|      80+|  1178.7362523851198|      69703|\n",
      "|    36-50|  1159.3664643892043|      76957|\n",
      "+---------+--------------------+-----------+\n",
      "\n",
      "Age group with the most expensive claims: 51-65\n",
      "Average claim amount: 1404.08\n"
     ]
    }
   ],
   "source": [
    "from pyspark.sql import functions as F\n",
    "\n",
    "# Defining age groups: (0-18, 19-35, 36-50, 51-65, 66-80, 80+)\n",
    "df_with_age_group = df_with_age.withColumn(\n",
    "    \"age_group\",\n",
    "    F.when(F.col(\"age\") <= 18, \"0-18\")\n",
    "    .when((F.col(\"age\") > 18) & (F.col(\"age\") <= 35), \"19-35\")\n",
    "    .when((F.col(\"age\") > 35) & (F.col(\"age\") <= 50), \"36-50\")\n",
    "    .when((F.col(\"age\") > 50) & (F.col(\"age\") <= 65), \"51-65\")\n",
    "    .when((F.col(\"age\") > 65) & (F.col(\"age\") <= 80), \"66-80\")\n",
    "    .otherwise(\"80+\")\n",
    ")\n",
    "\n",
    "# Calculate average claim amount per age group\n",
    "avg_claim_by_age_group = df_with_age_group.groupBy(\"age_group\").agg(\n",
    "    F.avg(\"claim_payout\").alias(\"average_claim_amount\"),\n",
    "    F.count(\"claim_payout\").alias(\"claim_count\")\n",
    ")\n",
    "\n",
    "avg_claim_by_age_group.orderBy(F.desc(\"average_claim_amount\")).show()\n",
    "\n",
    "# Find the age group with the most expensive claims\n",
    "most_expensive_age_group = avg_claim_by_age_group.orderBy(F.desc(\"average_claim_amount\")).first()\n",
    "\n",
    "if most_expensive_age_group:\n",
    "    print(f\"Age group with the most expensive claims: {most_expensive_age_group['age_group']}\")\n",
    "    print(f\"Average claim amount: {most_expensive_age_group['average_claim_amount']:.2f}\")"
   ]
  },
  {
   "cell_type": "markdown",
   "metadata": {},
   "source": [
    "<u style=\"color: green;\">**OBSERVATION:**</u> &nbsp;\n",
    "\n",
    "- **While the 51-65 age group has the highest average claim amount at $1404.08, they have a relatively low claim count (48,214) compared to other age groups.**\n",
    "- **The 19-35 age group has a significantly higher claim count (123,680) but a lower average claim amount of $1254.10.**\n",
    "- **This suggests that although fewer claims are made by the 51-65 age group, their claims tend to be more expensive.**\n",
    "- **Conversely, the 19-35 age group files a large number of claims, but these tend to be less costly.**"
   ]
  }
 ],
 "metadata": {
  "kernelspec": {
   "display_name": "Python 3 (ipykernel)",
   "language": "python",
   "name": "python3"
  },
  "language_info": {
   "codemirror_mode": {
    "name": "ipython",
    "version": 3
   },
   "file_extension": ".py",
   "mimetype": "text/x-python",
   "name": "python",
   "nbconvert_exporter": "python",
   "pygments_lexer": "ipython3",
   "version": "3.11.6"
  }
 },
 "nbformat": 4,
 "nbformat_minor": 2
}
